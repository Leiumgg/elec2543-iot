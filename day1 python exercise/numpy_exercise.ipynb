{
 "cells": [
  {
   "cell_type": "code",
   "execution_count": 1,
   "metadata": {},
   "outputs": [],
   "source": [
    "import numpy as np"
   ]
  },
  {
   "cell_type": "code",
   "execution_count": 2,
   "metadata": {},
   "outputs": [],
   "source": [
    "# create a 1D array\n",
    "x = np.array([0, 1, 2, 3, 4, 5, 6])"
   ]
  },
  {
   "cell_type": "code",
   "execution_count": 3,
   "metadata": {
    "scrolled": true
   },
   "outputs": [
    {
     "data": {
      "text/plain": [
       "(array([1, 2, 3, 4, 5, 6], dtype=int32),)"
      ]
     },
     "execution_count": 3,
     "metadata": {},
     "output_type": "execute_result"
    }
   ],
   "source": [
    "# find all non-zero elements in x\n",
    "np.nonzero(x)"
   ]
  },
  {
   "cell_type": "code",
   "execution_count": 4,
   "metadata": {},
   "outputs": [],
   "source": [
    "# create a 5x5 matrix A with random numbers\n",
    "A = np.random.randn(5, 5)\n",
    "\n",
    "# create a 5x5 identity matrix B\n",
    "B = np.eye(5)\n"
   ]
  },
  {
   "cell_type": "code",
   "execution_count": 5,
   "metadata": {},
   "outputs": [
    {
     "data": {
      "text/plain": [
       "array([[-1.33020721, -0.16313613,  0.26592256, -0.09595558,  0.42881188],\n",
       "       [ 0.31446431, -1.08988876, -1.60543007, -0.12891141,  0.10649074],\n",
       "       [-1.32841942,  0.48881673,  0.64999529,  2.10865132,  0.07416669],\n",
       "       [ 0.24216968,  0.01174628, -0.97778975,  0.15806943,  1.0797857 ],\n",
       "       [ 0.25124825,  2.17994503, -1.27636269, -0.09581612, -0.52831314]])"
      ]
     },
     "execution_count": 5,
     "metadata": {},
     "output_type": "execute_result"
    }
   ],
   "source": [
    "# calculate the following equations\n",
    "# A + B\n",
    "# A - B\n",
    "# A * B (matrix product)\n",
    "# A' (transpose of A)\n",
    "A + B\n",
    "A - B\n",
    "np.dot(A, B)\n",
    "np.transpose(A)\n"
   ]
  },
  {
   "cell_type": "code",
   "execution_count": 6,
   "metadata": {},
   "outputs": [
    {
     "data": {
      "text/plain": [
       "array([-1.33020721, -1.60543007, -1.32841942, -0.97778975, -1.27636269])"
      ]
     },
     "execution_count": 6,
     "metadata": {},
     "output_type": "execute_result"
    }
   ],
   "source": [
    "# calculate the mean, sum, max, min value for each column in A\n",
    "np.mean(A, axis = 0)\n",
    "np.sum(A, axis = 0)\n",
    "np.max(A, axis = 0)\n",
    "np.min(A, axis = 0)\n"
   ]
  },
  {
   "cell_type": "code",
   "execution_count": 7,
   "metadata": {},
   "outputs": [
    {
     "data": {
      "text/plain": [
       "array([[0.07270689, 0.50718736, 0.07317918, 0.48808895, 0.49048728],\n",
       "       [0.38101744, 0.13619292, 0.55324684, 0.42721694, 1.        ],\n",
       "       [0.49436386, 0.        , 0.59582612, 0.16580664, 0.08693125],\n",
       "       [0.39876484, 0.39005875, 0.98116601, 0.4658718 , 0.39880168],\n",
       "       [0.53739508, 0.45224602, 0.44370682, 0.70936583, 0.28454695]])"
      ]
     },
     "execution_count": 7,
     "metadata": {},
     "output_type": "execute_result"
    }
   ],
   "source": [
    "# normalize A with its max value A_max and min value A_min\n",
    "# i.e., for any value x in A,\n",
    "# x = (x - A_min) / (A_max - A_min)\n",
    "A_min = np.min(A)\n",
    "A_max = np.max(A)\n",
    "for i in range(len(A)):\n",
    "    for j in range(len(A)):\n",
    "        A[i,j] = (A[i,j] - A_min) / (A_max - A_min)\n",
    "A"
   ]
  },
  {
   "cell_type": "code",
   "execution_count": 8,
   "metadata": {},
   "outputs": [
    {
     "data": {
      "text/plain": [
       "array([2., 3.])"
      ]
     },
     "execution_count": 8,
     "metadata": {},
     "output_type": "execute_result"
    }
   ],
   "source": [
    "# advanced exercise\n",
    "# solve the system of equations:\n",
    "# 3 * x0 + x1 = 9\n",
    "# x0 + 2 * x1 = 8\n",
    "\n",
    "# Ax = b \n",
    "A = np.array([[3, 1], [1, 2]])\n",
    "b = np.array([9, 8])\n",
    "x = np.linalg.solve(A, b)\n",
    "x"
   ]
  },
  {
   "cell_type": "code",
   "execution_count": 9,
   "metadata": {},
   "outputs": [
    {
     "data": {
      "text/plain": [
       "array([2., 3.])"
      ]
     },
     "execution_count": 9,
     "metadata": {},
     "output_type": "execute_result"
    }
   ],
   "source": [
    "# compare x with the product of inverse A and b\n",
    "np.dot(np.linalg.inv(A), b) #x = (A^-1)(b)"
   ]
  }
 ],
 "metadata": {
  "kernelspec": {
   "display_name": "Python 3",
   "language": "python",
   "name": "python3"
  },
  "language_info": {
   "codemirror_mode": {
    "name": "ipython",
    "version": 3
   },
   "file_extension": ".py",
   "mimetype": "text/x-python",
   "name": "python",
   "nbconvert_exporter": "python",
   "pygments_lexer": "ipython3",
   "version": "3.7.3"
  }
 },
 "nbformat": 4,
 "nbformat_minor": 2
}
