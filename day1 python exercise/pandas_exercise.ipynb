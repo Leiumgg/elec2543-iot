{
 "cells": [
  {
   "cell_type": "code",
   "execution_count": 1,
   "metadata": {},
   "outputs": [],
   "source": [
    "# import libraries\n",
    "import pandas as pd"
   ]
  },
  {
   "cell_type": "code",
   "execution_count": 2,
   "metadata": {},
   "outputs": [],
   "source": [
    "# read a CSV format text file\n",
    "# the data is sorted by utc_time\n",
    "df = pd.read_csv('beijing_air_quality_data.csv',\n",
    "                 parse_dates=['utc_time'])"
   ]
  },
  {
   "cell_type": "code",
   "execution_count": 3,
   "metadata": {},
   "outputs": [
    {
     "data": {
      "text/plain": [
       "19.158965495324146"
      ]
     },
     "execution_count": 3,
     "metadata": {},
     "output_type": "execute_result"
    }
   ],
   "source": [
    "# for temperature and humidity\n",
    "# calculate its mean, standard deviation\n",
    "df['temperature'].mean()\n",
    "#temperature mean: 21.957699735449733\n",
    "df['temperature'].std()\n",
    "#temperature standard deviation: 5.416088362922563\n",
    "df['humidity'].mean()\n",
    "#humidity mean: 35.776478505291\n",
    "df['humidity'].std()\n",
    "#humidity standard deviation: 19.158965495324146\n"
   ]
  },
  {
   "cell_type": "code",
   "execution_count": 4,
   "metadata": {},
   "outputs": [
    {
     "data": {
      "text/plain": [
       "35"
      ]
     },
     "execution_count": 4,
     "metadata": {},
     "output_type": "execute_result"
    }
   ],
   "source": [
    "# how many unique site_id?\n",
    "# Hint: check pd.unique method\n",
    "len(pd.unique(df['site_id']))\n",
    "#35"
   ]
  },
  {
   "cell_type": "code",
   "execution_count": 5,
   "metadata": {},
   "outputs": [
    {
     "data": {
      "text/plain": [
       "Timestamp('2018-06-02 23:00:00')"
      ]
     },
     "execution_count": 5,
     "metadata": {},
     "output_type": "execute_result"
    }
   ],
   "source": [
    "# what is the range of utc_time?\n",
    "# Hint: you can call min() and max() for the utc_time column\n",
    "df['utc_time'].min()\n",
    "df['utc_time'].max()\n",
    "#range: 00:00:00 - 23:00:00"
   ]
  },
  {
   "cell_type": "code",
   "execution_count": 6,
   "metadata": {},
   "outputs": [],
   "source": [
    "# for pm25, fill NAs with mean value\n",
    "df['pm25'] = df['pm25'].fillna(df['pm25'].mean())"
   ]
  },
  {
   "cell_type": "code",
   "execution_count": 7,
   "metadata": {},
   "outputs": [
    {
     "data": {
      "text/plain": [
       "491"
      ]
     },
     "execution_count": 7,
     "metadata": {},
     "output_type": "execute_result"
    }
   ],
   "source": [
    "# select data for a station where site_id equals to dongsi_aq\n",
    "dongsi_df = df[df['site_id'] == 'dongsi_aq']\n",
    "\n",
    "dongsi_df_pm25 = dongsi_df['pm25']\n",
    "\n",
    "# calculate the mean value of pm25 at this station\n",
    "dongsi_df_pm25.mean()\n",
    "#mean: 63.571246378040236\n",
    "# calculate how many data points when pm25 >= 50 at this station\n",
    "# Hint: check count() method\n",
    "dongsi_df[dongsi_df['pm25'] >= 50].count()['pm25']"
   ]
  },
  {
   "cell_type": "code",
   "execution_count": 8,
   "metadata": {},
   "outputs": [
    {
     "data": {
      "text/plain": [
       "0"
      ]
     },
     "execution_count": 8,
     "metadata": {},
     "output_type": "execute_result"
    }
   ],
   "source": [
    "# how many NAs for pm25 values at this station\n",
    "# Hint: check isnull() method\n",
    "dongsi_df[dongsi_df['pm25'].isnull() == True].count()['pm25']"
   ]
  }
 ],
 "metadata": {
  "kernelspec": {
   "display_name": "Python 3",
   "language": "python",
   "name": "python3"
  },
  "language_info": {
   "codemirror_mode": {
    "name": "ipython",
    "version": 3
   },
   "file_extension": ".py",
   "mimetype": "text/x-python",
   "name": "python",
   "nbconvert_exporter": "python",
   "pygments_lexer": "ipython3",
   "version": "3.7.3"
  }
 },
 "nbformat": 4,
 "nbformat_minor": 2
}
